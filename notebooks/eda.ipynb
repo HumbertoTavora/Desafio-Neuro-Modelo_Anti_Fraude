{
 "cells": [
  {
   "cell_type": "markdown",
   "id": "700555d9",
   "metadata": {},
   "source": [
    "# <b>1 <span style='color:#00008B'>|</span>  EDA</b>"
   ]
  },
  {
   "cell_type": "markdown",
   "id": "79bd52ac",
   "metadata": {},
   "source": [
    "## <b>1.1 <span style='color:#2ae4f5'>|</span>  Imports de Bibliotecas</b>"
   ]
  },
  {
   "cell_type": "code",
   "execution_count": 1,
   "id": "0e5935e1",
   "metadata": {},
   "outputs": [
    {
     "name": "stdout",
     "output_type": "stream",
     "text": [
      "Requirement already satisfied: pandas in /Users/humbertotavora/Documents/Pessoal/Processo Seletivo/Desafio Neuro - Modelo Anti Fraude/.venv/lib/python3.9/site-packages (2.3.2)\n",
      "Requirement already satisfied: numpy in /Users/humbertotavora/Documents/Pessoal/Processo Seletivo/Desafio Neuro - Modelo Anti Fraude/.venv/lib/python3.9/site-packages (2.0.2)\n",
      "Collecting matplotlib\n",
      "  Downloading matplotlib-3.9.4-cp39-cp39-macosx_11_0_arm64.whl (7.8 MB)\n",
      "\u001b[K     |████████████████████████████████| 7.8 MB 1.0 MB/s eta 0:00:01\n",
      "\u001b[?25hCollecting seaborn\n",
      "  Using cached seaborn-0.13.2-py3-none-any.whl (294 kB)\n",
      "Requirement already satisfied: python-dateutil>=2.8.2 in /Users/humbertotavora/Documents/Pessoal/Processo Seletivo/Desafio Neuro - Modelo Anti Fraude/.venv/lib/python3.9/site-packages (from pandas) (2.9.0.post0)\n",
      "Requirement already satisfied: pytz>=2020.1 in /Users/humbertotavora/Documents/Pessoal/Processo Seletivo/Desafio Neuro - Modelo Anti Fraude/.venv/lib/python3.9/site-packages (from pandas) (2025.2)\n",
      "Requirement already satisfied: tzdata>=2022.7 in /Users/humbertotavora/Documents/Pessoal/Processo Seletivo/Desafio Neuro - Modelo Anti Fraude/.venv/lib/python3.9/site-packages (from pandas) (2025.2)\n",
      "Collecting pyparsing>=2.3.1\n",
      "  Downloading pyparsing-3.2.3-py3-none-any.whl (111 kB)\n",
      "\u001b[K     |████████████████████████████████| 111 kB 13.0 MB/s eta 0:00:01\n",
      "\u001b[?25hCollecting importlib-resources>=3.2.0\n",
      "  Downloading importlib_resources-6.5.2-py3-none-any.whl (37 kB)\n",
      "Collecting fonttools>=4.22.0\n",
      "  Downloading fonttools-4.59.1-cp39-cp39-macosx_10_9_universal2.whl (2.8 MB)\n",
      "\u001b[K     |████████████████████████████████| 2.8 MB 67.2 MB/s eta 0:00:01\n",
      "\u001b[?25hCollecting cycler>=0.10\n",
      "  Using cached cycler-0.12.1-py3-none-any.whl (8.3 kB)\n",
      "Requirement already satisfied: packaging>=20.0 in /Users/humbertotavora/Documents/Pessoal/Processo Seletivo/Desafio Neuro - Modelo Anti Fraude/.venv/lib/python3.9/site-packages (from matplotlib) (25.0)\n",
      "Collecting contourpy>=1.0.1\n",
      "  Using cached contourpy-1.3.0-cp39-cp39-macosx_11_0_arm64.whl (249 kB)\n",
      "Collecting kiwisolver>=1.3.1\n",
      "  Using cached kiwisolver-1.4.7-cp39-cp39-macosx_11_0_arm64.whl (64 kB)\n",
      "Collecting pillow>=8\n",
      "  Downloading pillow-11.3.0-cp39-cp39-macosx_11_0_arm64.whl (4.7 MB)\n",
      "\u001b[K     |████████████████████████████████| 4.7 MB 21.2 MB/s eta 0:00:01\n",
      "\u001b[?25hRequirement already satisfied: zipp>=3.1.0 in /Users/humbertotavora/Documents/Pessoal/Processo Seletivo/Desafio Neuro - Modelo Anti Fraude/.venv/lib/python3.9/site-packages (from importlib-resources>=3.2.0->matplotlib) (3.23.0)\n",
      "Requirement already satisfied: six>=1.5 in /Users/humbertotavora/Documents/Pessoal/Processo Seletivo/Desafio Neuro - Modelo Anti Fraude/.venv/lib/python3.9/site-packages (from python-dateutil>=2.8.2->pandas) (1.17.0)\n",
      "Installing collected packages: pyparsing, pillow, kiwisolver, importlib-resources, fonttools, cycler, contourpy, matplotlib, seaborn\n",
      "Successfully installed contourpy-1.3.0 cycler-0.12.1 fonttools-4.59.1 importlib-resources-6.5.2 kiwisolver-1.4.7 matplotlib-3.9.4 pillow-11.3.0 pyparsing-3.2.3 seaborn-0.13.2\n",
      "\u001b[33mWARNING: You are using pip version 21.2.4; however, version 25.2 is available.\n",
      "You should consider upgrading via the '/Users/humbertotavora/Documents/Pessoal/Processo Seletivo/Desafio Neuro - Modelo Anti Fraude/.venv/bin/python -m pip install --upgrade pip' command.\u001b[0m\n",
      "Note: you may need to restart the kernel to use updated packages.\n"
     ]
    }
   ],
   "source": [
    "%pip install pandas numpy matplotlib seaborn"
   ]
  },
  {
   "cell_type": "code",
   "execution_count": 2,
   "id": "2ab612db",
   "metadata": {},
   "outputs": [],
   "source": [
    "import pandas as pd\n",
    "import numpy as np\n",
    "import matplotlib.pyplot as plt\n",
    "import seaborn as sns"
   ]
  },
  {
   "cell_type": "markdown",
   "id": "0281031d",
   "metadata": {},
   "source": [
    "## <b>1.2 <span style='color:#2ae4f5'>|</span>  Carregamento do Dataset</b>"
   ]
  },
  {
   "cell_type": "markdown",
   "id": "7ae0b0a8",
   "metadata": {},
   "source": [
    "Configuracoes básicas de visualização"
   ]
  },
  {
   "cell_type": "code",
   "execution_count": 3,
   "id": "ea11bd3d",
   "metadata": {},
   "outputs": [],
   "source": [
    "pd.set_option(\"display.max_columns\", 50)\n",
    "sns.set(style=\"whitegrid\", palette=\"muted\", font_scale=1.1)"
   ]
  },
  {
   "cell_type": "code",
   "execution_count": 5,
   "id": "bd062617",
   "metadata": {},
   "outputs": [
    {
     "name": "stdout",
     "output_type": "stream",
     "text": [
      "Formato do dataset: (47732, 205)\n"
     ]
    },
    {
     "name": "stderr",
     "output_type": "stream",
     "text": [
      "/var/folders/40/wt_fcnd546jc4_4rr2q97fs40000gn/T/ipykernel_23122/2741465154.py:1: DtypeWarning: Columns (203) have mixed types. Specify dtype option on import or set low_memory=False.\n",
      "  df = pd.read_csv(\"../datasets/base_antifraude.gz\", compression=\"gzip\", sep='\\t')\n"
     ]
    },
    {
     "data": {
      "text/html": [
       "<div>\n",
       "<style scoped>\n",
       "    .dataframe tbody tr th:only-of-type {\n",
       "        vertical-align: middle;\n",
       "    }\n",
       "\n",
       "    .dataframe tbody tr th {\n",
       "        vertical-align: top;\n",
       "    }\n",
       "\n",
       "    .dataframe thead th {\n",
       "        text-align: right;\n",
       "    }\n",
       "</style>\n",
       "<table border=\"1\" class=\"dataframe\">\n",
       "  <thead>\n",
       "    <tr style=\"text-align: right;\">\n",
       "      <th></th>\n",
       "      <th>id</th>\n",
       "      <th>documento</th>\n",
       "      <th>mes_ref</th>\n",
       "      <th>alvo</th>\n",
       "      <th>vlr_financiado</th>\n",
       "      <th>VAR1</th>\n",
       "      <th>VAR2</th>\n",
       "      <th>VAR3</th>\n",
       "      <th>VAR4</th>\n",
       "      <th>VAR5</th>\n",
       "      <th>VAR6</th>\n",
       "      <th>VAR7</th>\n",
       "      <th>VAR8</th>\n",
       "      <th>VAR9</th>\n",
       "      <th>VAR10</th>\n",
       "      <th>VAR11</th>\n",
       "      <th>VAR12</th>\n",
       "      <th>VAR13</th>\n",
       "      <th>VAR14</th>\n",
       "      <th>VAR15</th>\n",
       "      <th>VAR16</th>\n",
       "      <th>VAR17</th>\n",
       "      <th>VAR18</th>\n",
       "      <th>VAR19</th>\n",
       "      <th>VAR20</th>\n",
       "      <th>...</th>\n",
       "      <th>VAR176</th>\n",
       "      <th>VAR177</th>\n",
       "      <th>VAR178</th>\n",
       "      <th>VAR179</th>\n",
       "      <th>VAR180</th>\n",
       "      <th>VAR181</th>\n",
       "      <th>VAR182</th>\n",
       "      <th>VAR183</th>\n",
       "      <th>VAR184</th>\n",
       "      <th>VAR185</th>\n",
       "      <th>VAR186</th>\n",
       "      <th>VAR187</th>\n",
       "      <th>VAR188</th>\n",
       "      <th>VAR189</th>\n",
       "      <th>VAR190</th>\n",
       "      <th>VAR191</th>\n",
       "      <th>VAR192</th>\n",
       "      <th>VAR193</th>\n",
       "      <th>VAR194</th>\n",
       "      <th>VAR195</th>\n",
       "      <th>VAR196</th>\n",
       "      <th>VAR197</th>\n",
       "      <th>VAR198</th>\n",
       "      <th>VAR199</th>\n",
       "      <th>VAR200</th>\n",
       "    </tr>\n",
       "  </thead>\n",
       "  <tbody>\n",
       "    <tr>\n",
       "      <th>0</th>\n",
       "      <td>4db9c75f6a31c73414ad84fdd101b5d7</td>\n",
       "      <td>d92fa549809f55b4ea13caa1b108896f</td>\n",
       "      <td>202307</td>\n",
       "      <td>0.0</td>\n",
       "      <td>17820.60</td>\n",
       "      <td>0.166667</td>\n",
       "      <td>0.0</td>\n",
       "      <td>0.0</td>\n",
       "      <td>1.000000</td>\n",
       "      <td>NaN</td>\n",
       "      <td>0.0</td>\n",
       "      <td>0.910228</td>\n",
       "      <td>NaN</td>\n",
       "      <td>NaN</td>\n",
       "      <td>0.30</td>\n",
       "      <td>0.418605</td>\n",
       "      <td>NaN</td>\n",
       "      <td>NaN</td>\n",
       "      <td>0.0</td>\n",
       "      <td>0.080733</td>\n",
       "      <td>0.075134</td>\n",
       "      <td>NaN</td>\n",
       "      <td>0.030092</td>\n",
       "      <td>0.244624</td>\n",
       "      <td>NaN</td>\n",
       "      <td>...</td>\n",
       "      <td>0.0</td>\n",
       "      <td>NaN</td>\n",
       "      <td>NaN</td>\n",
       "      <td>NaN</td>\n",
       "      <td>0.333333</td>\n",
       "      <td>0.0</td>\n",
       "      <td>0.010</td>\n",
       "      <td>0.215811</td>\n",
       "      <td>0.001001</td>\n",
       "      <td>ALTA</td>\n",
       "      <td>0.111111</td>\n",
       "      <td>NaN</td>\n",
       "      <td>0.0</td>\n",
       "      <td>0.005289</td>\n",
       "      <td>NaN</td>\n",
       "      <td>0.609314</td>\n",
       "      <td>0.0</td>\n",
       "      <td>0.095790</td>\n",
       "      <td>NaN</td>\n",
       "      <td>0.066331</td>\n",
       "      <td>NaN</td>\n",
       "      <td>0.666667</td>\n",
       "      <td>0.135065</td>\n",
       "      <td>SUDESTE</td>\n",
       "      <td>0.0</td>\n",
       "    </tr>\n",
       "    <tr>\n",
       "      <th>1</th>\n",
       "      <td>9b07d4001632189d19de964894501e34</td>\n",
       "      <td>1af133c98723189f24bbfcb75abfcf92</td>\n",
       "      <td>202307</td>\n",
       "      <td>0.0</td>\n",
       "      <td>18513.56</td>\n",
       "      <td>0.166667</td>\n",
       "      <td>0.0</td>\n",
       "      <td>0.0</td>\n",
       "      <td>0.027211</td>\n",
       "      <td>NaN</td>\n",
       "      <td>0.0</td>\n",
       "      <td>NaN</td>\n",
       "      <td>NaN</td>\n",
       "      <td>NaN</td>\n",
       "      <td>0.04</td>\n",
       "      <td>0.000000</td>\n",
       "      <td>NaN</td>\n",
       "      <td>NaN</td>\n",
       "      <td>NaN</td>\n",
       "      <td>NaN</td>\n",
       "      <td>NaN</td>\n",
       "      <td>NaN</td>\n",
       "      <td>NaN</td>\n",
       "      <td>NaN</td>\n",
       "      <td>NaN</td>\n",
       "      <td>...</td>\n",
       "      <td>NaN</td>\n",
       "      <td>NaN</td>\n",
       "      <td>NaN</td>\n",
       "      <td>NaN</td>\n",
       "      <td>NaN</td>\n",
       "      <td>NaN</td>\n",
       "      <td>0.003</td>\n",
       "      <td>NaN</td>\n",
       "      <td>1.000000</td>\n",
       "      <td>ALTISSIMA</td>\n",
       "      <td>NaN</td>\n",
       "      <td>NaN</td>\n",
       "      <td>0.0</td>\n",
       "      <td>NaN</td>\n",
       "      <td>NaN</td>\n",
       "      <td>NaN</td>\n",
       "      <td>NaN</td>\n",
       "      <td>NaN</td>\n",
       "      <td>NaN</td>\n",
       "      <td>NaN</td>\n",
       "      <td>NaN</td>\n",
       "      <td>0.666667</td>\n",
       "      <td>NaN</td>\n",
       "      <td>NORTE</td>\n",
       "      <td>0.0</td>\n",
       "    </tr>\n",
       "    <tr>\n",
       "      <th>2</th>\n",
       "      <td>d55b6a81203f5a5ae6f362c483f36ff1</td>\n",
       "      <td>9e95be945b56ff10dc43df22381c9002</td>\n",
       "      <td>202307</td>\n",
       "      <td>0.0</td>\n",
       "      <td>22943.80</td>\n",
       "      <td>0.000000</td>\n",
       "      <td>0.0</td>\n",
       "      <td>0.0</td>\n",
       "      <td>0.013605</td>\n",
       "      <td>NaN</td>\n",
       "      <td>0.0</td>\n",
       "      <td>NaN</td>\n",
       "      <td>NaN</td>\n",
       "      <td>NaN</td>\n",
       "      <td>0.00</td>\n",
       "      <td>0.069767</td>\n",
       "      <td>NaN</td>\n",
       "      <td>0.228978</td>\n",
       "      <td>NaN</td>\n",
       "      <td>NaN</td>\n",
       "      <td>NaN</td>\n",
       "      <td>NaN</td>\n",
       "      <td>0.080593</td>\n",
       "      <td>NaN</td>\n",
       "      <td>NaN</td>\n",
       "      <td>...</td>\n",
       "      <td>NaN</td>\n",
       "      <td>NaN</td>\n",
       "      <td>NaN</td>\n",
       "      <td>NaN</td>\n",
       "      <td>0.000000</td>\n",
       "      <td>0.0</td>\n",
       "      <td>0.012</td>\n",
       "      <td>NaN</td>\n",
       "      <td>0.005005</td>\n",
       "      <td>ALTA</td>\n",
       "      <td>0.055556</td>\n",
       "      <td>NaN</td>\n",
       "      <td>0.0</td>\n",
       "      <td>0.099451</td>\n",
       "      <td>NaN</td>\n",
       "      <td>NaN</td>\n",
       "      <td>NaN</td>\n",
       "      <td>NaN</td>\n",
       "      <td>NaN</td>\n",
       "      <td>NaN</td>\n",
       "      <td>NaN</td>\n",
       "      <td>0.333333</td>\n",
       "      <td>NaN</td>\n",
       "      <td>SUL</td>\n",
       "      <td>0.0</td>\n",
       "    </tr>\n",
       "    <tr>\n",
       "      <th>3</th>\n",
       "      <td>f6bb36049c3b42a62dfa88c46e0f79d2</td>\n",
       "      <td>50502098d83c37b5fa60241bc4bd6641</td>\n",
       "      <td>202307</td>\n",
       "      <td>0.0</td>\n",
       "      <td>19177.58</td>\n",
       "      <td>0.083333</td>\n",
       "      <td>0.0</td>\n",
       "      <td>0.0</td>\n",
       "      <td>0.020408</td>\n",
       "      <td>NaN</td>\n",
       "      <td>0.0</td>\n",
       "      <td>NaN</td>\n",
       "      <td>NaN</td>\n",
       "      <td>NaN</td>\n",
       "      <td>0.02</td>\n",
       "      <td>0.116279</td>\n",
       "      <td>NaN</td>\n",
       "      <td>NaN</td>\n",
       "      <td>NaN</td>\n",
       "      <td>NaN</td>\n",
       "      <td>NaN</td>\n",
       "      <td>NaN</td>\n",
       "      <td>0.044997</td>\n",
       "      <td>NaN</td>\n",
       "      <td>NaN</td>\n",
       "      <td>...</td>\n",
       "      <td>NaN</td>\n",
       "      <td>NaN</td>\n",
       "      <td>NaN</td>\n",
       "      <td>NaN</td>\n",
       "      <td>0.000000</td>\n",
       "      <td>NaN</td>\n",
       "      <td>0.002</td>\n",
       "      <td>NaN</td>\n",
       "      <td>1.000000</td>\n",
       "      <td>ALTISSIMA</td>\n",
       "      <td>NaN</td>\n",
       "      <td>NaN</td>\n",
       "      <td>0.0</td>\n",
       "      <td>NaN</td>\n",
       "      <td>NaN</td>\n",
       "      <td>NaN</td>\n",
       "      <td>NaN</td>\n",
       "      <td>NaN</td>\n",
       "      <td>NaN</td>\n",
       "      <td>NaN</td>\n",
       "      <td>NaN</td>\n",
       "      <td>0.833333</td>\n",
       "      <td>NaN</td>\n",
       "      <td>NORTE</td>\n",
       "      <td>0.0</td>\n",
       "    </tr>\n",
       "    <tr>\n",
       "      <th>4</th>\n",
       "      <td>2755ed6330b4980ea24faa1081183dc7</td>\n",
       "      <td>aad24a7552d24b46188103f4249f17e7</td>\n",
       "      <td>202307</td>\n",
       "      <td>0.0</td>\n",
       "      <td>16644.85</td>\n",
       "      <td>0.000000</td>\n",
       "      <td>0.0</td>\n",
       "      <td>0.0</td>\n",
       "      <td>0.000000</td>\n",
       "      <td>NaN</td>\n",
       "      <td>0.0</td>\n",
       "      <td>NaN</td>\n",
       "      <td>NaN</td>\n",
       "      <td>NaN</td>\n",
       "      <td>0.00</td>\n",
       "      <td>0.093023</td>\n",
       "      <td>NaN</td>\n",
       "      <td>NaN</td>\n",
       "      <td>0.0</td>\n",
       "      <td>NaN</td>\n",
       "      <td>NaN</td>\n",
       "      <td>NaN</td>\n",
       "      <td>0.359038</td>\n",
       "      <td>NaN</td>\n",
       "      <td>NaN</td>\n",
       "      <td>...</td>\n",
       "      <td>0.0</td>\n",
       "      <td>NaN</td>\n",
       "      <td>NaN</td>\n",
       "      <td>NaN</td>\n",
       "      <td>NaN</td>\n",
       "      <td>NaN</td>\n",
       "      <td>0.011</td>\n",
       "      <td>NaN</td>\n",
       "      <td>1.000000</td>\n",
       "      <td>MEDIA</td>\n",
       "      <td>NaN</td>\n",
       "      <td>NaN</td>\n",
       "      <td>0.0</td>\n",
       "      <td>0.055098</td>\n",
       "      <td>NaN</td>\n",
       "      <td>0.045513</td>\n",
       "      <td>NaN</td>\n",
       "      <td>0.532964</td>\n",
       "      <td>NaN</td>\n",
       "      <td>NaN</td>\n",
       "      <td>NaN</td>\n",
       "      <td>0.500000</td>\n",
       "      <td>NaN</td>\n",
       "      <td>NORDESTE</td>\n",
       "      <td>0.0</td>\n",
       "    </tr>\n",
       "  </tbody>\n",
       "</table>\n",
       "<p>5 rows × 205 columns</p>\n",
       "</div>"
      ],
      "text/plain": [
       "                                 id                         documento  \\\n",
       "0  4db9c75f6a31c73414ad84fdd101b5d7  d92fa549809f55b4ea13caa1b108896f   \n",
       "1  9b07d4001632189d19de964894501e34  1af133c98723189f24bbfcb75abfcf92   \n",
       "2  d55b6a81203f5a5ae6f362c483f36ff1  9e95be945b56ff10dc43df22381c9002   \n",
       "3  f6bb36049c3b42a62dfa88c46e0f79d2  50502098d83c37b5fa60241bc4bd6641   \n",
       "4  2755ed6330b4980ea24faa1081183dc7  aad24a7552d24b46188103f4249f17e7   \n",
       "\n",
       "   mes_ref  alvo  vlr_financiado      VAR1  VAR2  VAR3      VAR4  VAR5  VAR6  \\\n",
       "0   202307   0.0        17820.60  0.166667   0.0   0.0  1.000000   NaN   0.0   \n",
       "1   202307   0.0        18513.56  0.166667   0.0   0.0  0.027211   NaN   0.0   \n",
       "2   202307   0.0        22943.80  0.000000   0.0   0.0  0.013605   NaN   0.0   \n",
       "3   202307   0.0        19177.58  0.083333   0.0   0.0  0.020408   NaN   0.0   \n",
       "4   202307   0.0        16644.85  0.000000   0.0   0.0  0.000000   NaN   0.0   \n",
       "\n",
       "       VAR7  VAR8  VAR9  VAR10     VAR11  VAR12     VAR13  VAR14     VAR15  \\\n",
       "0  0.910228   NaN   NaN   0.30  0.418605    NaN       NaN    0.0  0.080733   \n",
       "1       NaN   NaN   NaN   0.04  0.000000    NaN       NaN    NaN       NaN   \n",
       "2       NaN   NaN   NaN   0.00  0.069767    NaN  0.228978    NaN       NaN   \n",
       "3       NaN   NaN   NaN   0.02  0.116279    NaN       NaN    NaN       NaN   \n",
       "4       NaN   NaN   NaN   0.00  0.093023    NaN       NaN    0.0       NaN   \n",
       "\n",
       "      VAR16  VAR17     VAR18     VAR19  VAR20  ...  VAR176  VAR177  VAR178  \\\n",
       "0  0.075134    NaN  0.030092  0.244624    NaN  ...     0.0     NaN     NaN   \n",
       "1       NaN    NaN       NaN       NaN    NaN  ...     NaN     NaN     NaN   \n",
       "2       NaN    NaN  0.080593       NaN    NaN  ...     NaN     NaN     NaN   \n",
       "3       NaN    NaN  0.044997       NaN    NaN  ...     NaN     NaN     NaN   \n",
       "4       NaN    NaN  0.359038       NaN    NaN  ...     0.0     NaN     NaN   \n",
       "\n",
       "   VAR179    VAR180  VAR181  VAR182    VAR183    VAR184     VAR185    VAR186  \\\n",
       "0     NaN  0.333333     0.0   0.010  0.215811  0.001001       ALTA  0.111111   \n",
       "1     NaN       NaN     NaN   0.003       NaN  1.000000  ALTISSIMA       NaN   \n",
       "2     NaN  0.000000     0.0   0.012       NaN  0.005005       ALTA  0.055556   \n",
       "3     NaN  0.000000     NaN   0.002       NaN  1.000000  ALTISSIMA       NaN   \n",
       "4     NaN       NaN     NaN   0.011       NaN  1.000000      MEDIA       NaN   \n",
       "\n",
       "   VAR187  VAR188    VAR189  VAR190    VAR191  VAR192    VAR193  VAR194  \\\n",
       "0     NaN     0.0  0.005289     NaN  0.609314     0.0  0.095790     NaN   \n",
       "1     NaN     0.0       NaN     NaN       NaN     NaN       NaN     NaN   \n",
       "2     NaN     0.0  0.099451     NaN       NaN     NaN       NaN     NaN   \n",
       "3     NaN     0.0       NaN     NaN       NaN     NaN       NaN     NaN   \n",
       "4     NaN     0.0  0.055098     NaN  0.045513     NaN  0.532964     NaN   \n",
       "\n",
       "     VAR195 VAR196    VAR197    VAR198    VAR199  VAR200  \n",
       "0  0.066331    NaN  0.666667  0.135065   SUDESTE     0.0  \n",
       "1       NaN    NaN  0.666667       NaN     NORTE     0.0  \n",
       "2       NaN    NaN  0.333333       NaN       SUL     0.0  \n",
       "3       NaN    NaN  0.833333       NaN     NORTE     0.0  \n",
       "4       NaN    NaN  0.500000       NaN  NORDESTE     0.0  \n",
       "\n",
       "[5 rows x 205 columns]"
      ]
     },
     "execution_count": 5,
     "metadata": {},
     "output_type": "execute_result"
    }
   ],
   "source": [
    "df = pd.read_csv(\"../datasets/base_antifraude.gz\", compression=\"gzip\", sep='\\t')\n",
    "\n",
    "print(\"Formato do dataset:\", df.shape)\n",
    "df.head()"
   ]
  },
  {
   "cell_type": "markdown",
   "id": "11e27453",
   "metadata": {},
   "source": [
    "47732, 205 bate com a descrição do projeto."
   ]
  },
  {
   "cell_type": "markdown",
   "id": "90978b61",
   "metadata": {},
   "source": [
    "## <b>1.3 <span style='color:#2ae4f5'>|</span>  Estatísticas Iniciais</b>"
   ]
  },
  {
   "cell_type": "markdown",
   "id": "2e76677d",
   "metadata": {},
   "source": [
    "Infos básicas"
   ]
  },
  {
   "cell_type": "code",
   "execution_count": 6,
   "id": "c64101fa",
   "metadata": {},
   "outputs": [
    {
     "name": "stdout",
     "output_type": "stream",
     "text": [
      "<class 'pandas.core.frame.DataFrame'>\n",
      "RangeIndex: 47732 entries, 0 to 47731\n",
      "Columns: 205 entries, id to VAR200\n",
      "dtypes: float64(190), int64(1), object(14)\n",
      "memory usage: 74.7+ MB\n"
     ]
    }
   ],
   "source": [
    "df.info()"
   ]
  },
  {
   "cell_type": "markdown",
   "id": "2bd1a0da",
   "metadata": {},
   "source": [
    "Estatísticas básicas com describe"
   ]
  },
  {
   "cell_type": "code",
   "execution_count": 7,
   "id": "c79eba7e",
   "metadata": {},
   "outputs": [
    {
     "data": {
      "text/html": [
       "<div>\n",
       "<style scoped>\n",
       "    .dataframe tbody tr th:only-of-type {\n",
       "        vertical-align: middle;\n",
       "    }\n",
       "\n",
       "    .dataframe tbody tr th {\n",
       "        vertical-align: top;\n",
       "    }\n",
       "\n",
       "    .dataframe thead th {\n",
       "        text-align: right;\n",
       "    }\n",
       "</style>\n",
       "<table border=\"1\" class=\"dataframe\">\n",
       "  <thead>\n",
       "    <tr style=\"text-align: right;\">\n",
       "      <th></th>\n",
       "      <th>count</th>\n",
       "      <th>mean</th>\n",
       "      <th>std</th>\n",
       "      <th>min</th>\n",
       "      <th>25%</th>\n",
       "      <th>50%</th>\n",
       "      <th>75%</th>\n",
       "      <th>max</th>\n",
       "    </tr>\n",
       "  </thead>\n",
       "  <tbody>\n",
       "    <tr>\n",
       "      <th>mes_ref</th>\n",
       "      <td>47732.0</td>\n",
       "      <td>202309.288653</td>\n",
       "      <td>1.646360</td>\n",
       "      <td>2.023070e+05</td>\n",
       "      <td>202308.000000</td>\n",
       "      <td>202309.000000</td>\n",
       "      <td>202311.000000</td>\n",
       "      <td>202312.000000</td>\n",
       "    </tr>\n",
       "    <tr>\n",
       "      <th>alvo</th>\n",
       "      <td>47732.0</td>\n",
       "      <td>0.041607</td>\n",
       "      <td>0.199692</td>\n",
       "      <td>0.000000e+00</td>\n",
       "      <td>0.000000</td>\n",
       "      <td>0.000000</td>\n",
       "      <td>0.000000</td>\n",
       "      <td>1.000000</td>\n",
       "    </tr>\n",
       "    <tr>\n",
       "      <th>vlr_financiado</th>\n",
       "      <td>47594.0</td>\n",
       "      <td>19183.781266</td>\n",
       "      <td>5535.485493</td>\n",
       "      <td>2.427880e+03</td>\n",
       "      <td>15742.620000</td>\n",
       "      <td>18836.810000</td>\n",
       "      <td>22276.500000</td>\n",
       "      <td>91283.650000</td>\n",
       "    </tr>\n",
       "    <tr>\n",
       "      <th>VAR1</th>\n",
       "      <td>26947.0</td>\n",
       "      <td>0.201139</td>\n",
       "      <td>0.253286</td>\n",
       "      <td>0.000000e+00</td>\n",
       "      <td>0.000000</td>\n",
       "      <td>0.083333</td>\n",
       "      <td>0.333333</td>\n",
       "      <td>1.000000</td>\n",
       "    </tr>\n",
       "    <tr>\n",
       "      <th>VAR2</th>\n",
       "      <td>26947.0</td>\n",
       "      <td>0.156529</td>\n",
       "      <td>0.293852</td>\n",
       "      <td>0.000000e+00</td>\n",
       "      <td>0.000000</td>\n",
       "      <td>0.000000</td>\n",
       "      <td>0.000000</td>\n",
       "      <td>1.000000</td>\n",
       "    </tr>\n",
       "    <tr>\n",
       "      <th>...</th>\n",
       "      <td>...</td>\n",
       "      <td>...</td>\n",
       "      <td>...</td>\n",
       "      <td>...</td>\n",
       "      <td>...</td>\n",
       "      <td>...</td>\n",
       "      <td>...</td>\n",
       "      <td>...</td>\n",
       "    </tr>\n",
       "    <tr>\n",
       "      <th>VAR195</th>\n",
       "      <td>2238.0</td>\n",
       "      <td>0.293470</td>\n",
       "      <td>0.222681</td>\n",
       "      <td>3.038740e-07</td>\n",
       "      <td>0.107887</td>\n",
       "      <td>0.240976</td>\n",
       "      <td>0.450916</td>\n",
       "      <td>1.000000</td>\n",
       "    </tr>\n",
       "    <tr>\n",
       "      <th>VAR196</th>\n",
       "      <td>7704.0</td>\n",
       "      <td>0.308971</td>\n",
       "      <td>0.201970</td>\n",
       "      <td>1.120454e-06</td>\n",
       "      <td>0.163283</td>\n",
       "      <td>0.277927</td>\n",
       "      <td>0.409290</td>\n",
       "      <td>1.000001</td>\n",
       "    </tr>\n",
       "    <tr>\n",
       "      <th>VAR197</th>\n",
       "      <td>35629.0</td>\n",
       "      <td>0.489437</td>\n",
       "      <td>0.180096</td>\n",
       "      <td>0.000000e+00</td>\n",
       "      <td>0.333333</td>\n",
       "      <td>0.500000</td>\n",
       "      <td>0.500000</td>\n",
       "      <td>1.000000</td>\n",
       "    </tr>\n",
       "    <tr>\n",
       "      <th>VAR198</th>\n",
       "      <td>3838.0</td>\n",
       "      <td>0.259947</td>\n",
       "      <td>0.189631</td>\n",
       "      <td>6.222729e-05</td>\n",
       "      <td>0.130120</td>\n",
       "      <td>0.211768</td>\n",
       "      <td>0.336232</td>\n",
       "      <td>1.000062</td>\n",
       "    </tr>\n",
       "    <tr>\n",
       "      <th>VAR200</th>\n",
       "      <td>44930.0</td>\n",
       "      <td>0.054422</td>\n",
       "      <td>0.165324</td>\n",
       "      <td>0.000000e+00</td>\n",
       "      <td>0.000000</td>\n",
       "      <td>0.000000</td>\n",
       "      <td>0.000000</td>\n",
       "      <td>1.000000</td>\n",
       "    </tr>\n",
       "  </tbody>\n",
       "</table>\n",
       "<p>191 rows × 8 columns</p>\n",
       "</div>"
      ],
      "text/plain": [
       "                  count           mean          std           min  \\\n",
       "mes_ref         47732.0  202309.288653     1.646360  2.023070e+05   \n",
       "alvo            47732.0       0.041607     0.199692  0.000000e+00   \n",
       "vlr_financiado  47594.0   19183.781266  5535.485493  2.427880e+03   \n",
       "VAR1            26947.0       0.201139     0.253286  0.000000e+00   \n",
       "VAR2            26947.0       0.156529     0.293852  0.000000e+00   \n",
       "...                 ...            ...          ...           ...   \n",
       "VAR195           2238.0       0.293470     0.222681  3.038740e-07   \n",
       "VAR196           7704.0       0.308971     0.201970  1.120454e-06   \n",
       "VAR197          35629.0       0.489437     0.180096  0.000000e+00   \n",
       "VAR198           3838.0       0.259947     0.189631  6.222729e-05   \n",
       "VAR200          44930.0       0.054422     0.165324  0.000000e+00   \n",
       "\n",
       "                          25%            50%            75%            max  \n",
       "mes_ref         202308.000000  202309.000000  202311.000000  202312.000000  \n",
       "alvo                 0.000000       0.000000       0.000000       1.000000  \n",
       "vlr_financiado   15742.620000   18836.810000   22276.500000   91283.650000  \n",
       "VAR1                 0.000000       0.083333       0.333333       1.000000  \n",
       "VAR2                 0.000000       0.000000       0.000000       1.000000  \n",
       "...                       ...            ...            ...            ...  \n",
       "VAR195               0.107887       0.240976       0.450916       1.000000  \n",
       "VAR196               0.163283       0.277927       0.409290       1.000001  \n",
       "VAR197               0.333333       0.500000       0.500000       1.000000  \n",
       "VAR198               0.130120       0.211768       0.336232       1.000062  \n",
       "VAR200               0.000000       0.000000       0.000000       1.000000  \n",
       "\n",
       "[191 rows x 8 columns]"
      ]
     },
     "execution_count": 7,
     "metadata": {},
     "output_type": "execute_result"
    }
   ],
   "source": [
    "df.describe().T"
   ]
  },
  {
   "cell_type": "markdown",
   "id": "9eb4ca93",
   "metadata": {},
   "source": [
    "Atributos com mais de 80% de dados faltantes"
   ]
  },
  {
   "cell_type": "code",
   "execution_count": 25,
   "id": "2dc907f7",
   "metadata": {},
   "outputs": [
    {
     "data": {
      "text/plain": [
       "VAR87     0.998827\n",
       "VAR24     0.993170\n",
       "VAR157    0.990174\n",
       "VAR121    0.990070\n",
       "VAR148    0.983114\n",
       "            ...   \n",
       "VAR196    0.838599\n",
       "VAR54     0.836420\n",
       "VAR179    0.834702\n",
       "VAR16     0.828899\n",
       "VAR43     0.817900\n",
       "Length: 90, dtype: float64"
      ]
     },
     "execution_count": 25,
     "metadata": {},
     "output_type": "execute_result"
    }
   ],
   "source": [
    "df.isna().mean().sort_values(ascending=False).head(90)"
   ]
  },
  {
   "cell_type": "markdown",
   "id": "7bf9f987",
   "metadata": {},
   "source": [
    "## <b>1.4 <span style='color:#2ae4f5'>|</span>  Análise de Distribuições</b>"
   ]
  },
  {
   "cell_type": "markdown",
   "id": "00d3bc67",
   "metadata": {},
   "source": [
    "### Classe Alvo"
   ]
  },
  {
   "cell_type": "markdown",
   "id": "cad908ff",
   "metadata": {},
   "source": [
    "Vamos analizar a distribuição de classes do alvo."
   ]
  },
  {
   "cell_type": "code",
   "execution_count": 26,
   "id": "dff543b5",
   "metadata": {},
   "outputs": [
    {
     "data": {
      "image/png": "[encoded data removed]",
      "text/plain": [
       "<Figure size 640x480 with 1 Axes>"
      ]
     },
     "metadata": {},
     "output_type": "display_data"
    }
   ],
   "source": [
    "df['alvo'].value_counts(normalize=True) * 100\n",
    "\n",
    "sns.countplot(x='alvo', data=df)\n",
    "plt.title(\"Distribuição da variável alvo (fraude = 1)\")\n",
    "plt.show()"
   ]
  },
  {
   "cell_type": "markdown",
   "id": "ebcead37",
   "metadata": {},
   "source": [
    "Podemos observar um forte desbalanceamento de classes, onde o numero de não pagantes da primeira parcela é muito menor do que o de pagantes. Claro, isso já era esperado. "
   ]
  },
  {
   "cell_type": "markdown",
   "id": "b46f7c01",
   "metadata": {},
   "source": [
    "### Valor financiado"
   ]
  },
  {
   "cell_type": "code",
   "execution_count": 27,
   "id": "7db45e19",
   "metadata": {},
   "outputs": [
    {
     "data": {
      "image/png": "[encoded data removed]",
      "text/plain": [
       "<Figure size 640x480 with 1 Axes>"
      ]
     },
     "metadata": {},
     "output_type": "display_data"
    }
   ],
   "source": [
    "sns.histplot(df['vlr_financiado'], bins=50, kde=True)\n",
    "plt.title(\"Distribuição do valor financiado\")\n",
    "plt.xlabel(\"Valor Financiado\")\n",
    "plt.show()"
   ]
  },
  {
   "cell_type": "markdown",
   "id": "20a31bc9",
   "metadata": {},
   "source": [
    "### Mês de referência"
   ]
  },
  {
   "cell_type": "markdown",
   "id": "a1538743",
   "metadata": {},
   "source": [
    "Podemos análisar também a taxa de possiveis fraudes por mês."
   ]
  },
  {
   "cell_type": "code",
   "execution_count": null,
   "id": "f2d0014b",
   "metadata": {},
   "outputs": [
    {
     "name": "stdout",
     "output_type": "stream",
     "text": [
      "[202307 202308 202309 202310 202311 202312]\n"
     ]
    },
    {
     "data": {
      "image/png": "[encoded data removed]",
      "text/plain": [
       "<Figure size 1200x400 with 1 Axes>"
      ]
     },
     "metadata": {},
     "output_type": "display_data"
    }
   ],
   "source": [
    "fraude_mes = df.groupby(\"mes_ref\")['alvo'].mean()\n",
    "\n",
    "# Só confirmando que todos os meses estão sendo exibidos na analise de distribuição.\n",
    "print(df['mes_ref'].unique())\n",
    "\n",
    "fraude_mes.plot(kind='bar', figsize=(12,4))\n",
    "plt.title(\"Taxa de fraude por mês de referência\")\n",
    "plt.ylabel(\"Taxa de fraude (%)\")\n",
    "plt.show()"
   ]
  },
  {
   "cell_type": "markdown",
   "id": "5196bee1",
   "metadata": {},
   "source": [
    "Nenhum dos meses parece se destacar muito em relação aos outros. Mas é importante termos noção da volumetria em cada mes de referência para validarmos se essas diferencas são relevantes ou não. "
   ]
  },
  {
   "cell_type": "code",
   "execution_count": 34,
   "id": "81866165",
   "metadata": {},
   "outputs": [
    {
     "data": {
      "image/png": "[encoded data removed]",
      "text/plain": [
       "<Figure size 1200x400 with 1 Axes>"
      ]
     },
     "metadata": {},
     "output_type": "display_data"
    }
   ],
   "source": [
    "propostas_mesRef = df.groupby(\"mes_ref\")['alvo'].count()\n",
    "\n",
    "propostas_mesRef.plot(kind='bar', figsize=(12,4))\n",
    "plt.title(\"Quantidade de propostas por mês de referência\")\n",
    "plt.ylabel(\"Quantidade de propostas\")\n",
    "plt.show()"
   ]
  },
  {
   "cell_type": "markdown",
   "id": "2421dd5f",
   "metadata": {},
   "source": [
    "Interessante observar que o mes de dezembro onde houveram mais casos de não pagamento da primeira parcela (percentualmente), foi o mês em que houveram menos propostas."
   ]
  },
  {
   "cell_type": "markdown",
   "id": "1aa68913",
   "metadata": {},
   "source": [
    "### Reincidência"
   ]
  },
  {
   "cell_type": "code",
   "execution_count": 61,
   "id": "7d6f0cc1",
   "metadata": {},
   "outputs": [
    {
     "data": {
      "image/png": "[encoded data removed]",
      "text/plain": [
       "<Figure size 1200x600 with 1 Axes>"
      ]
     },
     "metadata": {},
     "output_type": "display_data"
    }
   ],
   "source": [
    "clientes_reincidentes = df['documento'].value_counts()\n",
    "\n",
    "\n",
    "plt.figure(figsize=(12, 6))\n",
    "sns.countplot(x=clientes_reincidentes.values)\n",
    "plt.title(\"Distribuição do número de propostas por cliente\")\n",
    "plt.xlabel(\"Número de propostas\")\n",
    "plt.ylabel(\"Quantidade de clientes\")\n",
    "plt.show()"
   ]
  },
  {
   "cell_type": "markdown",
   "id": "465bc593",
   "metadata": {},
   "source": [
    "Como já era esperado, a quantidade de não reincidentes é muito maior quando comparada aos reincidentes, então vamos verificar manualmente."
   ]
  },
  {
   "cell_type": "code",
   "execution_count": 62,
   "id": "3b722236",
   "metadata": {},
   "outputs": [
    {
     "name": "stdout",
     "output_type": "stream",
     "text": [
      "Temos 123 casos com > 1 proposta\n"
     ]
    }
   ],
   "source": [
    "clientes_com_multiplas_propostas = clientes_reincidentes[clientes_reincidentes > 1]\n",
    "\n",
    "print(f'Temos {clientes_com_multiplas_propostas.count()} casos com > 1 proposta')"
   ]
  },
  {
   "cell_type": "code",
   "execution_count": 60,
   "id": "92260234",
   "metadata": {},
   "outputs": [
    {
     "name": "stdout",
     "output_type": "stream",
     "text": [
      "Propostas feitos mais de duas vezes pelo mesmo cliente: 2\n"
     ]
    },
    {
     "data": {
      "image/png": "[encoded data removed]",
      "text/plain": [
       "<Figure size 1200x600 with 1 Axes>"
      ]
     },
     "metadata": {},
     "output_type": "display_data"
    }
   ],
   "source": [
    "# Casos c 3 propostas, já que são bem menos do que os casos com 2.\n",
    "print(f'Propostas feitos mais de duas vezes pelo mesmo cliente: {clientes_reincidentes[clientes_reincidentes > 2].count()}')\n",
    "\n",
    "\n",
    "plt.figure(figsize=(12, 6))\n",
    "sns.countplot(x=clientes_com_multiplas_propostas.values)\n",
    "plt.title(\"Distribuição do numero de clientes com > 1 proposta\")\n",
    "plt.xlabel(\"Número de propostas\")\n",
    "plt.ylabel(\"Quantidade de clientes\")\n",
    "plt.show()"
   ]
  },
  {
   "cell_type": "markdown",
   "id": "87a1b188",
   "metadata": {},
   "source": [
    "# <b>2 <span style='color:#00008B'>|</span>  Hipóteses mapeadas </b>"
   ]
  }
 ],
 "metadata": {
  "kernelspec": {
   "display_name": ".venv (3.9.6)",
   "language": "python",
   "name": "python3"
  },
  "language_info": {
   "codemirror_mode": {
    "name": "ipython",
    "version": 3
   },
   "file_extension": ".py",
   "mimetype": "text/x-python",
   "name": "python",
   "nbconvert_exporter": "python",
   "pygments_lexer": "ipython3",
   "version": "3.9.6"
  }
 },
 "nbformat": 4,
 "nbformat_minor": 5
}
