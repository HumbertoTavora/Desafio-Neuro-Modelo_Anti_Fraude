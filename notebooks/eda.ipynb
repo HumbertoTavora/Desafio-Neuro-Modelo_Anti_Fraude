{
 "cells": [
  {
   "cell_type": "markdown",
   "id": "700555d9",
   "metadata": {},
   "source": [
    "# <b>1 <span style='color:#00008B'>|</span>  EDA</b>"
   ]
  },
  {
   "cell_type": "markdown",
   "id": "79bd52ac",
   "metadata": {},
   "source": [
    "## <b>1 <span style='color:#2ae4f5'>|</span>  Imports de Bibliotecas</b>"
   ]
  },
  {
   "cell_type": "markdown",
   "id": "0281031d",
   "metadata": {},
   "source": [
    "## <b>2 <span style='color:#2ae4f5'>|</span>  Carregamento do Dataset</b>"
   ]
  },
  {
   "cell_type": "markdown",
   "id": "90978b61",
   "metadata": {},
   "source": [
    "## <b>3 <span style='color:#2ae4f5'>|</span>  Estatísticas Iniciais</b>"
   ]
  },
  {
   "cell_type": "markdown",
   "id": "7bf9f987",
   "metadata": {},
   "source": [
    "## <b>4 <span style='color:#2ae4f5'>|</span>  Análise de Distribuições</b>"
   ]
  },
  {
   "cell_type": "markdown",
   "id": "87a1b188",
   "metadata": {},
   "source": [
    "# <b>2 <span style='color:#00008B'>|</span>  Hipóteses mapeadas </b>"
   ]
  }
 ],
 "metadata": {
  "language_info": {
   "name": "python"
  }
 },
 "nbformat": 4,
 "nbformat_minor": 5
}
