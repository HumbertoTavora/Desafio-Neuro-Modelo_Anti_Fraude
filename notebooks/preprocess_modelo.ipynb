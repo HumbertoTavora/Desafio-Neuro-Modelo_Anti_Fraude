{
 "cells": [
  {
   "cell_type": "markdown",
   "id": "9d9a8692",
   "metadata": {},
   "source": [
    "# <b>1 <span style='color:#00008B'>|</span>  Pré Processamento</b>"
   ]
  },
  {
   "cell_type": "markdown",
   "id": "0abfe2ed",
   "metadata": {},
   "source": [
    "## <b>1.1 <span style='color:#2ae4f5'>|</span>  Imports de Bibliotecas</b>"
   ]
  },
  {
   "cell_type": "code",
   "execution_count": null,
   "id": "6dfbd551",
   "metadata": {},
   "outputs": [],
   "source": [
    "import pandas as pd\n",
    "import numpy as np\n",
    "\n",
    "from sklearn.model_selection import train_test_split, StratifiedKFold, cross_val_score\n",
    "from sklearn.pipeline import Pipeline\n",
    "from sklearn.impute import SimpleImputer\n",
    "from sklearn.preprocessing import StandardScaler\n",
    "from sklearn.feature_selection import SelectKBest, mutual_info_classif\n",
    "from sklearn.linear_model import LogisticRegression\n",
    "from sklearn.metrics import classification_report, roc_auc_score, precision_recall_curve\n"
   ]
  },
  {
   "cell_type": "markdown",
   "id": "9b356dbf",
   "metadata": {},
   "source": [
    "## <b>1.2 <span style='color:#2ae4f5'>|</span>  Carregamento do Dataset</b>"
   ]
  },
  {
   "cell_type": "markdown",
   "id": "32e95839",
   "metadata": {},
   "source": [
    "## <b>1.3 <span style='color:#2ae4f5'>|</span> Outliers</b>"
   ]
  },
  {
   "cell_type": "markdown",
   "id": "02008c29",
   "metadata": {},
   "source": [
    "## <b>1.4 <span style='color:#2ae4f5'>|</span>  Valores Ausentes</b>"
   ]
  },
  {
   "cell_type": "markdown",
   "id": "4c583c6b",
   "metadata": {},
   "source": [
    "## <b>1.5 <span style='color:#2ae4f5'>|</span>  Pipeline de Processamento</b>"
   ]
  },
  {
   "cell_type": "markdown",
   "id": "282d21c1",
   "metadata": {},
   "source": [
    "# <b>2 <span style='color:#00008B'>|</span>  Pré Processamento</b>"
   ]
  },
  {
   "cell_type": "markdown",
   "id": "19b70071",
   "metadata": {},
   "source": [
    "## <b>1.1 <span style='color:#2ae4f5'>|</span>  Modelos base</b>"
   ]
  },
  {
   "cell_type": "markdown",
   "id": "3ddaaac2",
   "metadata": {},
   "source": [
    "## <b>1.2 <span style='color:#2ae4f5'>|</span>  Modelo stacked</b>"
   ]
  },
  {
   "cell_type": "markdown",
   "id": "e4a975e9",
   "metadata": {},
   "source": [
    "## <b>1.2 <span style='color:#2ae4f5'>|</span>  Treinamento</b>"
   ]
  }
 ],
 "metadata": {
  "kernelspec": {
   "display_name": ".venv (3.9.6)",
   "language": "python",
   "name": "python3"
  },
  "language_info": {
   "name": "python",
   "version": "3.9.6"
  }
 },
 "nbformat": 4,
 "nbformat_minor": 5
}
